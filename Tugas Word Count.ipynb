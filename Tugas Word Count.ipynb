{
 "cells": [
  {
   "cell_type": "markdown",
   "metadata": {
    "collapsed": false
   },
   "source": [
    "# Tugas Word Count"
   ]
  },
  {
   "cell_type": "code",
   "execution_count": null,
   "metadata": {
    "collapsed": false
   },
   "outputs": [],
   "source": [
    "paragraf = input(\"Tuliskan paragraf yang ingin diproses :\\n\")\n",
    "paragraf = paragraf.lower()\n",
    "paragraf = paragraf.replace(\"/\",\" \")\n",
    "paragraf = paragraf.replace(\"(\",\" \")\n",
    "paragraf = paragraf.replace(\")\",\" \")\n",
    "paragraf = paragraf.replace(\"-\",\" \")\n",
    "paragraf = paragraf.replace(\". \",\" \")\n",
    "paragraf = paragraf.replace(\", \",\" \")\n",
    "paragraf = paragraf.replace(\"? \",\" \")\n",
    "\n",
    "listKata = paragraf.split()\n",
    "countKata = {}\n",
    "tmpKataList = []\n",
    "\n",
    "for kata in listKata :\n",
    "    if kata not in tmpKataList :\n",
    "        countKata[kata] = 1\n",
    "        tmpKataList.append(kata)\n",
    "    else :\n",
    "        countKata[kata] = countKata[kata] + 1\n",
    "\n",
    "print(\"\\nJumlah kemunculan kata\")\n",
    "\n",
    "for m,n in countKata.items() :\n",
    "    print(m, \":\", n)"
   ]
  }
 ],
 "metadata": {
  "kernelspec": {
   "display_name": "Python 3",
   "language": "python",
   "name": "python3"
  },
  "language_info": {
   "codemirror_mode": {
    "name": "ipython",
    "version": 3
   },
   "file_extension": ".py",
   "mimetype": "text/x-python",
   "name": "python",
   "nbconvert_exporter": "python",
   "pygments_lexer": "ipython3",
   "version": "3.4.3"
  }
 },
 "nbformat": 4,
 "nbformat_minor": 0
}
