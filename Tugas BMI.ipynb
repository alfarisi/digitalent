{
 "cells": [
  {
   "cell_type": "markdown",
   "metadata": {},
   "source": [
    "#Kalkulator BMI\n",
    "\n",
    "Nama  : Al Farisi  \n",
    "Kelas : Big Data A"
   ]
  },
  {
   "cell_type": "code",
   "execution_count": null,
   "metadata": {
    "collapsed": false
   },
   "outputs": [],
   "source": [
    "print(\"===============================================\")\n",
    "print(\"               Kalkulator BMI                  \")\n",
    "print(\"              (Body Mass Index)                \")\n",
    "print(\"===============================================\")\n",
    "\n",
    "weight = 0\n",
    "height = 0\n",
    "\n",
    "# looping untuk proses input berat dan tinggi badan dibuat terpisah\n",
    "# jika salah format input tinggi, tidak perlu input ulang berat\n",
    "while weight <= 0 :\n",
    "    try :\n",
    "        weight = float(input(\"\\nMasukkan berat badan  (kg): \"))\n",
    "        if weight <= 0 :\n",
    "            print(\"Mohon masukkan angka yang lebih besar dari 0\")\n",
    "    except ValueError :\n",
    "        print(\"Mohon masukkan angka dengan benar. Contoh: 50 atau 62.5\")\n",
    "\n",
    "while height <= 0 :\n",
    "    try :\n",
    "        height = float(input(\"Masukkan tinggi badan (cm): \"))\n",
    "        if height <= 0 :\n",
    "            print(\"Mohon masukkan angka yang lebih besar dari 0\")\n",
    "    except ValueError :\n",
    "        print(\"Mohon masukkan angka dengan benar. Contoh: 150 atau 162.5\")\n",
    "\n",
    "bmi = weight / (height/100)**2\n",
    "\n",
    "if bmi < 15 :\n",
    "    kategori = \"Very severely underweight\"\n",
    "elif 15 <= bmi < 16 :\n",
    "    kategori = \"Severely underweight\"\n",
    "elif 16 <= bmi < 18.5 :\n",
    "    kategori = \"Underweight\"\n",
    "elif 18.5 <= bmi < 25 :\n",
    "    kategori = \"Normal - healthy weight\"\n",
    "elif 25 <= bmi < 30 :\n",
    "    kategori = \"Overweight\"\n",
    "elif 30 <= bmi < 35 :\n",
    "    kategori = \"Moderately obese\"\n",
    "elif 35 <= bmi < 40 :\n",
    "    kategori = \"Severely obese\"\n",
    "else :\n",
    "    kategori = \"Very severely obese\"\n",
    "    \n",
    "print(\"\\nSkor BMI : %.2f (%s)\" % (bmi, kategori))\n",
    "\n",
    "if bmi < 18.5 :\n",
    "    print(\"Rekomendasi: Naikkan berat badan dengan mengonsumsi makanan bergizi.\")\n",
    "elif bmi >= 25 :\n",
    "    print(\"Rekomendasi:\")\n",
    "    print(\"- Turunkan berat badan, hindari makanan cepat saji.\")\n",
    "    print(\"- Jangan lupa rutin berolahraga.\")\n",
    "else :\n",
    "    print(\"Berat badan sudah ideal. Jaga selalu!\")"
   ]
  }
 ],
 "metadata": {
  "kernelspec": {
   "display_name": "Python 3",
   "language": "python",
   "name": "python3"
  },
  "language_info": {
   "codemirror_mode": {
    "name": "ipython",
    "version": 3
   },
   "file_extension": ".py",
   "mimetype": "text/x-python",
   "name": "python",
   "nbconvert_exporter": "python",
   "pygments_lexer": "ipython3",
   "version": "3.4.3"
  }
 },
 "nbformat": 4,
 "nbformat_minor": 0
}
