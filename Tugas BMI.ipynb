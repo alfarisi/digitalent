{
 "cells": [
  {
   "cell_type": "markdown",
   "metadata": {},
   "source": [
    "#Kalkulator BMI\n",
    "\n",
    "Nama  : Al Farisi  \n",
    "Kelas : Big Data A"
   ]
  },
  {
   "cell_type": "code",
   "execution_count": null,
   "metadata": {
    "collapsed": false
   },
   "outputs": [],
   "source": [
    "print(\"===============================================\")\n",
    "print(\"               Kalkulator BMI                  \")\n",
    "print(\"              (Body Mass Index)                \")\n",
    "print(\"===============================================\")\n",
    "\n",
    "weight = None\n",
    "height = None\n",
    "\n",
    "while weight is None:\n",
    "    try:\n",
    "        weight = float(input(\"Masukkan berat badan (kg): \"))\n",
    "    except ValueError:\n",
    "        print (\"Mohon masukkan angka dengan benar. Contoh: 50 atau 62.5\")\n",
    "\n",
    "while height is None:\n",
    "    try:\n",
    "        height = float(input(\"Masukkan tinggi badan (cm): \"))\n",
    "    except ValueError:\n",
    "        print (\"Mohon masukkan angka dengan benar. Contoh: 160 atau 152.5\")\n",
    "\n",
    "bmi = weight / (height/100)**2\n",
    "\n",
    "if bmi < 15 :\n",
    "    kategori = \"Very severely underweight\"\n",
    "elif bmi >= 15 and bmi < 16 :\n",
    "    kategori = \"Severely underweight\"\n",
    "elif bmi >= 16 and bmi < 18.5 :\n",
    "    kategori = \"Underweight\"\n",
    "elif bmi >= 18.5 and bmi < 25 :\n",
    "    kategori = \"Normal - healthy weight\"\n",
    "elif bmi >= 25 and bmi < 30 :\n",
    "    kategori = \"Overweight\"\n",
    "elif bmi >= 30 and bmi < 35 :\n",
    "    kategori = \"Moderately obese\"\n",
    "elif bmi >= 35 and bmi < 40 :\n",
    "    kategori = \"Severely obese\"\n",
    "else :\n",
    "    kategori = \"Very severely obese\"\n",
    "    \n",
    "print(\"Skor BMI : %.2f (%s)\" % (bmi, kategori))\n",
    "\n",
    "if bmi < 18.5 :\n",
    "    print(\"Rekomendasi: Naikkan berat badan dengan mengonsumsi makanan bergizi.\")\n",
    "elif bmi >= 25 :\n",
    "    print(\"Rekomendasi:\")\n",
    "    print(\"- Turunkan berat badan, hindari makanan cepat saji.\")\n",
    "    print(\"- Jangan lupa rutin berolahraga.\")\n",
    "else :\n",
    "    print(\"Selamat! Berat badan sudah ideal. Jaga selalu!\")"
   ]
  },
  {
   "cell_type": "code",
   "execution_count": null,
   "metadata": {
    "collapsed": true
   },
   "outputs": [],
   "source": []
  }
 ],
 "metadata": {
  "kernelspec": {
   "display_name": "Python 3",
   "language": "python",
   "name": "python3"
  },
  "language_info": {
   "codemirror_mode": {
    "name": "ipython",
    "version": 3
   },
   "file_extension": ".py",
   "mimetype": "text/x-python",
   "name": "python",
   "nbconvert_exporter": "python",
   "pygments_lexer": "ipython3",
   "version": "3.4.3"
  }
 },
 "nbformat": 4,
 "nbformat_minor": 0
}
